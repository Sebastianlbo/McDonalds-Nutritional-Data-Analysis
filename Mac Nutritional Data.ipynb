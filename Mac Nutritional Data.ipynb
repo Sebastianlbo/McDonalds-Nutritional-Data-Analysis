{
 "cells": [
  {
   "cell_type": "markdown",
   "source": [
    "## 1. Exploratory and Correlation Analysis with the McDonalds Menu Nutritional Data.\n"
   ],
   "metadata": {
    "collapsed": false
   },
   "id": "2956addd8bbd946c"
  },
  {
   "cell_type": "markdown",
   "source": [
    "### 1.1 Purpose \n",
    "\n",
    "This project is dedicated to unraveling the comprehensive nutritional composition of McDonald's menu items, seeking to uncover distinctive patterns and trends. We meticulously examined the distribution of macronutrients, micronutrients, overall calorie content, and their interrelationships. In addition, we employed a multiple linear regression analysis to precisely quantify these correlations, enhancing our understanding of the intricate relationships within the nutritional makeup of the menu. This dual approach aims to provide a nuanced and detailed perspective on the factors influencing the nutritional profile of McDonald's offerings."
   ],
   "metadata": {
    "collapsed": false
   },
   "id": "b24823746723b8ab"
  },
  {
   "cell_type": "markdown",
   "source": [
    "## 2. SET UP"
   ],
   "metadata": {
    "collapsed": false
   },
   "id": "c9946abbe11c2e03"
  },
  {
   "cell_type": "code",
   "execution_count": 1,
   "id": "initial_id",
   "metadata": {
    "collapsed": true,
    "ExecuteTime": {
     "end_time": "2023-11-17T20:01:23.417511Z",
     "start_time": "2023-11-17T20:01:22.349267Z"
    }
   },
   "outputs": [],
   "source": [
    "# Importing necessary Python libraries such as pandas, matplotlib, seaborn, sklearn, numpy, csv, sqlite3, and sqlalchemy. \n",
    "\n",
    "import pandas as pd\n",
    "import numpy as np\n",
    "\n",
    "import matplotlib.pyplot as plt\n",
    "%matplotlib inline\n",
    "import seaborn as sns\n",
    "\n",
    "from sklearn import linear_model\n",
    "from sklearn.model_selection import train_test_split\n",
    "from sklearn.metrics import r2_score\n",
    "from sqlalchemy import create_engine\n",
    "\n",
    "%load_ext sql\n",
    "%sql sqlite:///SQLiteMagic.db\n",
    "\n",
    "def hex_to_RGB(hex_str):\n",
    "    \"\"\" #FFFFFF -> [255,255,255]\"\"\"\n",
    "    #Pass 16 to the integer function for change of base\n",
    "    return [int(hex_str[i:i+2], 16) for i in range(1,6,2)]\n",
    "\n",
    "def get_color_gradient(c1, c2, n):\n",
    "    \"\"\"\n",
    "    Given two hex colors, returns a color gradient\n",
    "    with n colors.\n",
    "    \"\"\"\n",
    "    assert n > 1\n",
    "    c1_rgb = np.array(hex_to_RGB(c1))/255\n",
    "    c2_rgb = np.array(hex_to_RGB(c2))/255\n",
    "    mix_pcts = [x/(n-1) for x in range(n)]\n",
    "    rgb_colors = [((1-mix)*c1_rgb + (mix*c2_rgb)) for mix in mix_pcts]\n",
    "    return [\"#\" + \"\".join([format(int(round(val*255)), \"02x\") for val in item]) for item in rgb_colors]\n",
    "\n",
    "import warnings\n",
    "warnings.filterwarnings(\"ignore\")\n",
    "\n"
   ]
  },
  {
   "cell_type": "markdown",
   "source": [
    "### 2.1 Data Preprocessing \n",
    "The Data comes from the following link from Kaggle. \n",
    "\n",
    "https://www.kaggle.com/datasets/mcdonalds/nutrition-facts\n",
    "\n",
    "This dataset provides a nutrition analysis of every menu item on the US McDonald's menu, including breakfast, beef burgers, chicken and fish sandwiches, fries, salads, soda, coffee and tea, milkshakes, and desserts."
   ],
   "metadata": {
    "collapsed": false
   },
   "id": "6cf71caedc56ec5f"
  },
  {
   "cell_type": "code",
   "execution_count": 2,
   "outputs": [],
   "source": [
    "# Reading the local CSV file into a Pandas DataFrame.\n",
    "\n",
    "df = pd.read_csv('menu.csv')"
   ],
   "metadata": {
    "collapsed": false,
    "ExecuteTime": {
     "end_time": "2023-11-17T20:01:23.428031Z",
     "start_time": "2023-11-17T20:01:23.413105Z"
    }
   },
   "id": "17b64fdc1f9d859e"
  },
  {
   "cell_type": "code",
   "execution_count": 3,
   "outputs": [
    {
     "data": {
      "text/plain": "    Category                              Item    Serving Size  Calories  \\\n0  Breakfast                      Egg McMuffin  4.8 oz (136 g)       300   \n1  Breakfast                 Egg White Delight  4.8 oz (135 g)       250   \n2  Breakfast                  Sausage McMuffin  3.9 oz (111 g)       370   \n3  Breakfast         Sausage McMuffin with Egg  5.7 oz (161 g)       450   \n4  Breakfast  Sausage McMuffin with Egg Whites  5.7 oz (161 g)       400   \n\n   Calories from Fat  Total Fat  Total Fat (% Daily Value)  Saturated Fat  \\\n0                120       13.0                         20            5.0   \n1                 70        8.0                         12            3.0   \n2                200       23.0                         35            8.0   \n3                250       28.0                         43           10.0   \n4                210       23.0                         35            8.0   \n\n   Saturated Fat (% Daily Value)  Trans Fat  ...  Carbohydrates  \\\n0                             25        0.0  ...             31   \n1                             15        0.0  ...             30   \n2                             42        0.0  ...             29   \n3                             52        0.0  ...             30   \n4                             42        0.0  ...             30   \n\n   Carbohydrates (% Daily Value)  Dietary Fiber  \\\n0                             10              4   \n1                             10              4   \n2                             10              4   \n3                             10              4   \n4                             10              4   \n\n   Dietary Fiber (% Daily Value)  Sugars  Protein  Vitamin A (% Daily Value)  \\\n0                             17       3       17                         10   \n1                             17       3       18                          6   \n2                             17       2       14                          8   \n3                             17       2       21                         15   \n4                             17       2       21                          6   \n\n   Vitamin C (% Daily Value)  Calcium (% Daily Value)  Iron (% Daily Value)  \n0                          0                       25                    15  \n1                          0                       25                     8  \n2                          0                       25                    10  \n3                          0                       30                    15  \n4                          0                       25                    10  \n\n[5 rows x 24 columns]",
      "text/html": "<div>\n<style scoped>\n    .dataframe tbody tr th:only-of-type {\n        vertical-align: middle;\n    }\n\n    .dataframe tbody tr th {\n        vertical-align: top;\n    }\n\n    .dataframe thead th {\n        text-align: right;\n    }\n</style>\n<table border=\"1\" class=\"dataframe\">\n  <thead>\n    <tr style=\"text-align: right;\">\n      <th></th>\n      <th>Category</th>\n      <th>Item</th>\n      <th>Serving Size</th>\n      <th>Calories</th>\n      <th>Calories from Fat</th>\n      <th>Total Fat</th>\n      <th>Total Fat (% Daily Value)</th>\n      <th>Saturated Fat</th>\n      <th>Saturated Fat (% Daily Value)</th>\n      <th>Trans Fat</th>\n      <th>...</th>\n      <th>Carbohydrates</th>\n      <th>Carbohydrates (% Daily Value)</th>\n      <th>Dietary Fiber</th>\n      <th>Dietary Fiber (% Daily Value)</th>\n      <th>Sugars</th>\n      <th>Protein</th>\n      <th>Vitamin A (% Daily Value)</th>\n      <th>Vitamin C (% Daily Value)</th>\n      <th>Calcium (% Daily Value)</th>\n      <th>Iron (% Daily Value)</th>\n    </tr>\n  </thead>\n  <tbody>\n    <tr>\n      <th>0</th>\n      <td>Breakfast</td>\n      <td>Egg McMuffin</td>\n      <td>4.8 oz (136 g)</td>\n      <td>300</td>\n      <td>120</td>\n      <td>13.0</td>\n      <td>20</td>\n      <td>5.0</td>\n      <td>25</td>\n      <td>0.0</td>\n      <td>...</td>\n      <td>31</td>\n      <td>10</td>\n      <td>4</td>\n      <td>17</td>\n      <td>3</td>\n      <td>17</td>\n      <td>10</td>\n      <td>0</td>\n      <td>25</td>\n      <td>15</td>\n    </tr>\n    <tr>\n      <th>1</th>\n      <td>Breakfast</td>\n      <td>Egg White Delight</td>\n      <td>4.8 oz (135 g)</td>\n      <td>250</td>\n      <td>70</td>\n      <td>8.0</td>\n      <td>12</td>\n      <td>3.0</td>\n      <td>15</td>\n      <td>0.0</td>\n      <td>...</td>\n      <td>30</td>\n      <td>10</td>\n      <td>4</td>\n      <td>17</td>\n      <td>3</td>\n      <td>18</td>\n      <td>6</td>\n      <td>0</td>\n      <td>25</td>\n      <td>8</td>\n    </tr>\n    <tr>\n      <th>2</th>\n      <td>Breakfast</td>\n      <td>Sausage McMuffin</td>\n      <td>3.9 oz (111 g)</td>\n      <td>370</td>\n      <td>200</td>\n      <td>23.0</td>\n      <td>35</td>\n      <td>8.0</td>\n      <td>42</td>\n      <td>0.0</td>\n      <td>...</td>\n      <td>29</td>\n      <td>10</td>\n      <td>4</td>\n      <td>17</td>\n      <td>2</td>\n      <td>14</td>\n      <td>8</td>\n      <td>0</td>\n      <td>25</td>\n      <td>10</td>\n    </tr>\n    <tr>\n      <th>3</th>\n      <td>Breakfast</td>\n      <td>Sausage McMuffin with Egg</td>\n      <td>5.7 oz (161 g)</td>\n      <td>450</td>\n      <td>250</td>\n      <td>28.0</td>\n      <td>43</td>\n      <td>10.0</td>\n      <td>52</td>\n      <td>0.0</td>\n      <td>...</td>\n      <td>30</td>\n      <td>10</td>\n      <td>4</td>\n      <td>17</td>\n      <td>2</td>\n      <td>21</td>\n      <td>15</td>\n      <td>0</td>\n      <td>30</td>\n      <td>15</td>\n    </tr>\n    <tr>\n      <th>4</th>\n      <td>Breakfast</td>\n      <td>Sausage McMuffin with Egg Whites</td>\n      <td>5.7 oz (161 g)</td>\n      <td>400</td>\n      <td>210</td>\n      <td>23.0</td>\n      <td>35</td>\n      <td>8.0</td>\n      <td>42</td>\n      <td>0.0</td>\n      <td>...</td>\n      <td>30</td>\n      <td>10</td>\n      <td>4</td>\n      <td>17</td>\n      <td>2</td>\n      <td>21</td>\n      <td>6</td>\n      <td>0</td>\n      <td>25</td>\n      <td>10</td>\n    </tr>\n  </tbody>\n</table>\n<p>5 rows × 24 columns</p>\n</div>"
     },
     "metadata": {},
     "output_type": "display_data"
    }
   ],
   "source": [
    "# Check the first 10 rows of our Dataframe\n",
    "\n",
    "display(df.head())"
   ],
   "metadata": {
    "collapsed": false,
    "ExecuteTime": {
     "end_time": "2023-11-17T20:01:23.457511Z",
     "start_time": "2023-11-17T20:01:23.440066Z"
    }
   },
   "id": "51a5249f7cb90d37"
  },
  {
   "cell_type": "code",
   "execution_count": 4,
   "outputs": [
    {
     "data": {
      "text/plain": "Category                          object\nItem                              object\nServing Size                      object\nCalories                           int64\nCalories from Fat                  int64\nTotal Fat                        float64\nTotal Fat (% Daily Value)          int64\nSaturated Fat                    float64\nSaturated Fat (% Daily Value)      int64\nTrans Fat                        float64\nCholesterol                        int64\nCholesterol (% Daily Value)        int64\nSodium                             int64\nSodium (% Daily Value)             int64\nCarbohydrates                      int64\nCarbohydrates (% Daily Value)      int64\nDietary Fiber                      int64\nDietary Fiber (% Daily Value)      int64\nSugars                             int64\nProtein                            int64\nVitamin A (% Daily Value)          int64\nVitamin C (% Daily Value)          int64\nCalcium (% Daily Value)            int64\nIron (% Daily Value)               int64\ndtype: object"
     },
     "execution_count": 4,
     "metadata": {},
     "output_type": "execute_result"
    }
   ],
   "source": [
    "# We check for the Data Types of the Data.\n",
    "\n",
    "df.dtypes"
   ],
   "metadata": {
    "collapsed": false,
    "ExecuteTime": {
     "end_time": "2023-11-17T20:01:23.471227Z",
     "start_time": "2023-11-17T20:01:23.457184Z"
    }
   },
   "id": "fda35b0544ecc0f4"
  },
  {
   "cell_type": "markdown",
   "source": [
    "It seems that the \"Serving Size\" attribute, which we can hypothesize exhibits a strong correlation with many other attributes, is currently formatted as a string ('str'). To enhance data representation and analysis, we transform this attribute into two separate columns with a numeric format ('float') to denote the Serving size in grams or in milliliters.\n",
    "We also change the blank spaces for underscores and choose more fitting columns names so that we can handle everything easier on SQL."
   ],
   "metadata": {
    "collapsed": false
   },
   "id": "5056d87d106b0075"
  },
  {
   "cell_type": "code",
   "execution_count": 5,
   "outputs": [
    {
     "data": {
      "text/plain": "Category              object\nItem                  object\nServing_Size_ml      float64\nServing_Size_g       float64\nCalories               int64\nCalories_from_Fat      int64\nTotal_Fat            float64\nTotal_Fat_DV           int64\nSaturated_Fat        float64\nSaturated_Fat_DV       int64\nTrans_Fat            float64\nCholesterol            int64\nCholesterol_DV         int64\nSodium                 int64\nSodium_DV              int64\nCarbohydrates          int64\nCarbohydrates_DV       int64\nDietary_Fiber          int64\nDietary_Fiber_DV       int64\nSugars                 int64\nProtein                int64\nVitamin_A_DV           int64\nVitamin_C_DV           int64\nCalcium_DV             int64\nIron_DV                int64\ndtype: object"
     },
     "metadata": {},
     "output_type": "display_data"
    }
   ],
   "source": [
    "# We do a bit of Column and Data Formating.\n",
    "\n",
    "for column in df.columns:\n",
    "    df = df.rename(columns={column : column.replace(\"(% Daily Value)\", \"DV\")} )\n",
    "for column in df.columns:\n",
    "    df = df.rename(columns={column : column.replace(\" \", \"_\")})\n",
    "    \n",
    "if 'Serving_Size' in df.columns:\n",
    "    df['Serving_Size_g'] = None\n",
    "    for i,value in enumerate(df['Serving_Size']):\n",
    "        if (value.find('fl') < 0 and value.find('ml') < 0):\n",
    "            value = (value[value.find(\"(\")+1:value.find(\" g\")])\n",
    "            df['Serving_Size_g'][i] = np.float64(value)\n",
    "            df['Serving_Size'][i] = None\n",
    "        else:\n",
    "            if (value.find(' fl') > 0):\n",
    "                df['Serving_Size'][i] = (np.float64(value[0:value.find(' fl')]) * 29.57)\n",
    "            elif (value.find(' ml') > 0):\n",
    "                df['Serving_Size'][i] = np.float64(value[value.find(' ml')-3:value.find(' ml')])\n",
    "\n",
    "    df = df.rename(columns={\"Serving_Size\": \"Serving_Size_ml\"})\n",
    "\n",
    "    if (df.columns.tolist()[3] != \"Serving_Size_g\"):\n",
    "        cols = df.columns.tolist()\n",
    "        cols = cols[:3] + cols[-1:] + cols[-22:-1]\n",
    "        df = df[cols]\n",
    "\n",
    "    df['Serving_Size_g'] = np.float64(df['Serving_Size_g'])\n",
    "    df['Serving_Size_ml'] = np.float64(df['Serving_Size_ml'])\n",
    "\n",
    "display(df.dtypes)"
   ],
   "metadata": {
    "collapsed": false,
    "ExecuteTime": {
     "end_time": "2023-11-17T20:01:23.629032Z",
     "start_time": "2023-11-17T20:01:23.488531Z"
    }
   },
   "id": "bd6b5993a6ac18b9"
  },
  {
   "cell_type": "markdown",
   "source": [
    "### 2.2 Exploratory Data Analysis"
   ],
   "metadata": {
    "collapsed": false
   },
   "id": "36428d4f0088b5b2"
  },
  {
   "cell_type": "code",
   "execution_count": 6,
   "outputs": [
    {
     "name": "stdout",
     "output_type": "stream",
     "text": [
      " * sqlite:///SQLiteMagic.db\n",
      "Done.\n"
     ]
    },
    {
     "data": {
      "text/plain": "[('Breakfast', 'Egg McMuffin', None, 136.0, 300, 120, 13.0, 20, 5.0, 25, 0.0, 260, 87, 750, 31, 31, 10, 4, 17, 3, 17, 10, 0, 25, 15),\n ('Breakfast', 'Egg White Delight', None, 135.0, 250, 70, 8.0, 12, 3.0, 15, 0.0, 25, 8, 770, 32, 30, 10, 4, 17, 3, 18, 6, 0, 25, 8),\n ('Breakfast', 'Sausage McMuffin', None, 111.0, 370, 200, 23.0, 35, 8.0, 42, 0.0, 45, 15, 780, 33, 29, 10, 4, 17, 2, 14, 8, 0, 25, 10),\n ('Breakfast', 'Sausage McMuffin with Egg', None, 161.0, 450, 250, 28.0, 43, 10.0, 52, 0.0, 285, 95, 860, 36, 30, 10, 4, 17, 2, 21, 15, 0, 30, 15),\n ('Breakfast', 'Sausage McMuffin with Egg Whites', None, 161.0, 400, 210, 23.0, 35, 8.0, 42, 0.0, 50, 16, 880, 37, 30, 10, 4, 17, 2, 21, 6, 0, 25, 10)]",
      "text/html": "<table>\n    <thead>\n        <tr>\n            <th>Category</th>\n            <th>Item</th>\n            <th>Serving_Size_ml</th>\n            <th>Serving_Size_g</th>\n            <th>Calories</th>\n            <th>Calories_from_Fat</th>\n            <th>Total_Fat</th>\n            <th>Total_Fat_DV</th>\n            <th>Saturated_Fat</th>\n            <th>Saturated_Fat_DV</th>\n            <th>Trans_Fat</th>\n            <th>Cholesterol</th>\n            <th>Cholesterol_DV</th>\n            <th>Sodium</th>\n            <th>Sodium_DV</th>\n            <th>Carbohydrates</th>\n            <th>Carbohydrates_DV</th>\n            <th>Dietary_Fiber</th>\n            <th>Dietary_Fiber_DV</th>\n            <th>Sugars</th>\n            <th>Protein</th>\n            <th>Vitamin_A_DV</th>\n            <th>Vitamin_C_DV</th>\n            <th>Calcium_DV</th>\n            <th>Iron_DV</th>\n        </tr>\n    </thead>\n    <tbody>\n        <tr>\n            <td>Breakfast</td>\n            <td>Egg McMuffin</td>\n            <td>None</td>\n            <td>136.0</td>\n            <td>300</td>\n            <td>120</td>\n            <td>13.0</td>\n            <td>20</td>\n            <td>5.0</td>\n            <td>25</td>\n            <td>0.0</td>\n            <td>260</td>\n            <td>87</td>\n            <td>750</td>\n            <td>31</td>\n            <td>31</td>\n            <td>10</td>\n            <td>4</td>\n            <td>17</td>\n            <td>3</td>\n            <td>17</td>\n            <td>10</td>\n            <td>0</td>\n            <td>25</td>\n            <td>15</td>\n        </tr>\n        <tr>\n            <td>Breakfast</td>\n            <td>Egg White Delight</td>\n            <td>None</td>\n            <td>135.0</td>\n            <td>250</td>\n            <td>70</td>\n            <td>8.0</td>\n            <td>12</td>\n            <td>3.0</td>\n            <td>15</td>\n            <td>0.0</td>\n            <td>25</td>\n            <td>8</td>\n            <td>770</td>\n            <td>32</td>\n            <td>30</td>\n            <td>10</td>\n            <td>4</td>\n            <td>17</td>\n            <td>3</td>\n            <td>18</td>\n            <td>6</td>\n            <td>0</td>\n            <td>25</td>\n            <td>8</td>\n        </tr>\n        <tr>\n            <td>Breakfast</td>\n            <td>Sausage McMuffin</td>\n            <td>None</td>\n            <td>111.0</td>\n            <td>370</td>\n            <td>200</td>\n            <td>23.0</td>\n            <td>35</td>\n            <td>8.0</td>\n            <td>42</td>\n            <td>0.0</td>\n            <td>45</td>\n            <td>15</td>\n            <td>780</td>\n            <td>33</td>\n            <td>29</td>\n            <td>10</td>\n            <td>4</td>\n            <td>17</td>\n            <td>2</td>\n            <td>14</td>\n            <td>8</td>\n            <td>0</td>\n            <td>25</td>\n            <td>10</td>\n        </tr>\n        <tr>\n            <td>Breakfast</td>\n            <td>Sausage McMuffin with Egg</td>\n            <td>None</td>\n            <td>161.0</td>\n            <td>450</td>\n            <td>250</td>\n            <td>28.0</td>\n            <td>43</td>\n            <td>10.0</td>\n            <td>52</td>\n            <td>0.0</td>\n            <td>285</td>\n            <td>95</td>\n            <td>860</td>\n            <td>36</td>\n            <td>30</td>\n            <td>10</td>\n            <td>4</td>\n            <td>17</td>\n            <td>2</td>\n            <td>21</td>\n            <td>15</td>\n            <td>0</td>\n            <td>30</td>\n            <td>15</td>\n        </tr>\n        <tr>\n            <td>Breakfast</td>\n            <td>Sausage McMuffin with Egg Whites</td>\n            <td>None</td>\n            <td>161.0</td>\n            <td>400</td>\n            <td>210</td>\n            <td>23.0</td>\n            <td>35</td>\n            <td>8.0</td>\n            <td>42</td>\n            <td>0.0</td>\n            <td>50</td>\n            <td>16</td>\n            <td>880</td>\n            <td>37</td>\n            <td>30</td>\n            <td>10</td>\n            <td>4</td>\n            <td>17</td>\n            <td>2</td>\n            <td>21</td>\n            <td>6</td>\n            <td>0</td>\n            <td>25</td>\n            <td>10</td>\n        </tr>\n    </tbody>\n</table>"
     },
     "execution_count": 6,
     "metadata": {},
     "output_type": "execute_result"
    }
   ],
   "source": [
    "# Loading DataFrame into SQLite Database so that we can use the power of SQLmagic for further Analysis of our data.\n",
    "#con = sqlite3.connect(\"SQLiteMagic.db\")\n",
    "#cur = con.cursor()\n",
    "\n",
    "#df into SQLite Db\n",
    "engine = create_engine('sqlite:///SQLiteMagic.db', echo=False)\n",
    "df.to_sql('Mc_Data', con=engine, if_exists='replace', index=False)\n",
    "engine.dispose()\n",
    "\n",
    "# Check the first 10 rows of our Table\n",
    "%sql SELECT * FROM Mc_Data LIMIT 5"
   ],
   "metadata": {
    "collapsed": false,
    "ExecuteTime": {
     "end_time": "2023-11-17T20:01:23.696935Z",
     "start_time": "2023-11-17T20:01:23.621707Z"
    }
   },
   "id": "29e1d36b368a1a6d"
  },
  {
   "cell_type": "markdown",
   "source": [
    "Now that we have the 2 new columns and everything has the right data types we can start doing some exploratory analysis with the data."
   ],
   "metadata": {
    "collapsed": false
   },
   "id": "d776d8a8098a2935"
  },
  {
   "cell_type": "code",
   "execution_count": 7,
   "outputs": [
    {
     "data": {
      "text/plain": "<Figure size 1080x864 with 3 Axes>",
      "image/png": "[encoded data removed]"
     },
     "metadata": {
      "needs_background": "light"
     },
     "output_type": "display_data"
    }
   ],
   "source": [
    "# First we check some of the attributes distribution divided on each of the different food categories. \n",
    "\n",
    "fig, axes = plt.subplots( 3, 1, figsize=(15, 12))\n",
    "fig.suptitle('Nutritional Info distribution per Category', fontsize=18)\n",
    "ax1 = sns.swarmplot(ax = axes[0],x = 'Category', y = 'Calories', data = df, s = 4, hue = 'Category')\n",
    "ax2 = sns.swarmplot(ax = axes[1],x = 'Category', y = 'Serving_Size_g', data = df, s = 4, hue = 'Category')\n",
    "ax3 = sns.swarmplot(ax = axes[2],x = 'Category', y = 'Sodium', data = df, s = 4, hue = 'Category')\n",
    "ax1.set_xticklabels(labels=ax1.get_xticklabels(), ha='center')\n",
    "plt.show();"
   ],
   "metadata": {
    "collapsed": false,
    "ExecuteTime": {
     "end_time": "2023-11-17T20:01:27.028138Z",
     "start_time": "2023-11-17T20:01:23.684947Z"
    }
   },
   "id": "c416ae4018830aa5"
  },
  {
   "cell_type": "markdown",
   "source": [
    "As we can see on the 'Chicken & Fish' Category we have a pretty big outlier."
   ],
   "metadata": {
    "collapsed": false
   },
   "id": "e814c101016a793f"
  },
  {
   "cell_type": "code",
   "execution_count": 8,
   "outputs": [
    {
     "name": "stdout",
     "output_type": "stream",
     "text": [
      " The Outlier is: Chicken McNuggets (40 piece)\n"
     ]
    },
    {
     "data": {
      "text/plain": "     Serving_Size_ml  Serving_Size_g  Calories  Total_Fat  Protein  Sodium  \\\n50%           473.12           183.5     340.0      11.00     12.0   190.0   \n75%           620.97           254.0     500.0      22.25     19.0   865.0   \nmax           946.24           646.0    1880.0     118.00     87.0  3600.0   \n\n     Carbohydrates  \n50%           44.0  \n75%           60.0  \nmax          141.0  ",
      "text/html": "<div>\n<style scoped>\n    .dataframe tbody tr th:only-of-type {\n        vertical-align: middle;\n    }\n\n    .dataframe tbody tr th {\n        vertical-align: top;\n    }\n\n    .dataframe thead th {\n        text-align: right;\n    }\n</style>\n<table border=\"1\" class=\"dataframe\">\n  <thead>\n    <tr style=\"text-align: right;\">\n      <th></th>\n      <th>Serving_Size_ml</th>\n      <th>Serving_Size_g</th>\n      <th>Calories</th>\n      <th>Total_Fat</th>\n      <th>Protein</th>\n      <th>Sodium</th>\n      <th>Carbohydrates</th>\n    </tr>\n  </thead>\n  <tbody>\n    <tr>\n      <th>50%</th>\n      <td>473.12</td>\n      <td>183.5</td>\n      <td>340.0</td>\n      <td>11.00</td>\n      <td>12.0</td>\n      <td>190.0</td>\n      <td>44.0</td>\n    </tr>\n    <tr>\n      <th>75%</th>\n      <td>620.97</td>\n      <td>254.0</td>\n      <td>500.0</td>\n      <td>22.25</td>\n      <td>19.0</td>\n      <td>865.0</td>\n      <td>60.0</td>\n    </tr>\n    <tr>\n      <th>max</th>\n      <td>946.24</td>\n      <td>646.0</td>\n      <td>1880.0</td>\n      <td>118.00</td>\n      <td>87.0</td>\n      <td>3600.0</td>\n      <td>141.0</td>\n    </tr>\n  </tbody>\n</table>\n</div>"
     },
     "metadata": {},
     "output_type": "display_data"
    },
    {
     "data": {
      "text/plain": "     Serving_Size_ml  Serving_Size_g  Calories  Total_Fat  Protein  Sodium  \\\n50%           473.12           182.0     340.0       11.0     12.0   190.0   \n75%           620.97           251.0     490.0       22.0     18.5   860.0   \nmax           946.24           460.0    1150.0       60.0     48.0  2290.0   \n\n     Carbohydrates  \n50%           44.0  \n75%           60.0  \nmax          141.0  ",
      "text/html": "<div>\n<style scoped>\n    .dataframe tbody tr th:only-of-type {\n        vertical-align: middle;\n    }\n\n    .dataframe tbody tr th {\n        vertical-align: top;\n    }\n\n    .dataframe thead th {\n        text-align: right;\n    }\n</style>\n<table border=\"1\" class=\"dataframe\">\n  <thead>\n    <tr style=\"text-align: right;\">\n      <th></th>\n      <th>Serving_Size_ml</th>\n      <th>Serving_Size_g</th>\n      <th>Calories</th>\n      <th>Total_Fat</th>\n      <th>Protein</th>\n      <th>Sodium</th>\n      <th>Carbohydrates</th>\n    </tr>\n  </thead>\n  <tbody>\n    <tr>\n      <th>50%</th>\n      <td>473.12</td>\n      <td>182.0</td>\n      <td>340.0</td>\n      <td>11.0</td>\n      <td>12.0</td>\n      <td>190.0</td>\n      <td>44.0</td>\n    </tr>\n    <tr>\n      <th>75%</th>\n      <td>620.97</td>\n      <td>251.0</td>\n      <td>490.0</td>\n      <td>22.0</td>\n      <td>18.5</td>\n      <td>860.0</td>\n      <td>60.0</td>\n    </tr>\n    <tr>\n      <th>max</th>\n      <td>946.24</td>\n      <td>460.0</td>\n      <td>1150.0</td>\n      <td>60.0</td>\n      <td>48.0</td>\n      <td>2290.0</td>\n      <td>141.0</td>\n    </tr>\n  </tbody>\n</table>\n</div>"
     },
     "metadata": {},
     "output_type": "display_data"
    }
   ],
   "source": [
    "# We compare how the distribution of other attributes behave with and without the max.\n",
    "print(f\" The Outlier is: {df.loc[df.index[df['Calories'].idxmax()]].at['Item']}\" )\n",
    "display(df.describe()[-3:][['Serving_Size_ml','Serving_Size_g','Calories','Total_Fat','Protein','Sodium', 'Carbohydrates']])\n",
    "display(df.drop(df.index[df['Calories'].idxmax()]).describe()[-3:][['Serving_Size_ml','Serving_Size_g','Calories','Total_Fat','Protein','Sodium', 'Carbohydrates']])"
   ],
   "metadata": {
    "collapsed": false,
    "ExecuteTime": {
     "end_time": "2023-11-17T20:01:27.195430Z",
     "start_time": "2023-11-17T20:01:26.993700Z"
    }
   },
   "id": "22a368ac5f3497e9"
  },
  {
   "cell_type": "markdown",
   "source": [
    "As observed in the tables above, it is evident that this particular element serves as an outlier in several attributes. To obtain a clearer overview of the data, we have opted to exclude it. This decision is based on the understanding that its outlier status is solely attributable to the serving size. Furthermore, the correlation information associated with this element mirrors that of 'Chicken Nuggets 10 pieces.' Hence, removing it facilitates a more accurate analysis."
   ],
   "metadata": {
    "collapsed": false
   },
   "id": "cac2bae81c7ea1a7"
  },
  {
   "cell_type": "code",
   "execution_count": 9,
   "outputs": [
    {
     "data": {
      "text/plain": "      Serving_Size_ml  Serving_Size_g     Calories  Total_Fat  Carbohydrates  \\\nmean       518.903965      200.538462   362.432432  13.764479      47.073359   \nstd        163.296145       91.736179   221.497874  12.674462      27.961741   \nmin        177.420000       29.000000     0.000000   0.000000       0.000000   \n25%        354.840000      143.000000   210.000000   2.250000      30.000000   \n50%        473.120000      182.000000   340.000000  11.000000      44.000000   \n75%        620.970000      251.000000   490.000000  22.000000      60.000000   \nmax        946.240000      460.000000  1150.000000  60.000000     141.000000   \n\n        Protein  \nmean  13.054054  \nstd   10.485731  \nmin    0.000000  \n25%    4.000000  \n50%   12.000000  \n75%   18.500000  \nmax   48.000000  ",
      "text/html": "<div>\n<style scoped>\n    .dataframe tbody tr th:only-of-type {\n        vertical-align: middle;\n    }\n\n    .dataframe tbody tr th {\n        vertical-align: top;\n    }\n\n    .dataframe thead th {\n        text-align: right;\n    }\n</style>\n<table border=\"1\" class=\"dataframe\">\n  <thead>\n    <tr style=\"text-align: right;\">\n      <th></th>\n      <th>Serving_Size_ml</th>\n      <th>Serving_Size_g</th>\n      <th>Calories</th>\n      <th>Total_Fat</th>\n      <th>Carbohydrates</th>\n      <th>Protein</th>\n    </tr>\n  </thead>\n  <tbody>\n    <tr>\n      <th>mean</th>\n      <td>518.903965</td>\n      <td>200.538462</td>\n      <td>362.432432</td>\n      <td>13.764479</td>\n      <td>47.073359</td>\n      <td>13.054054</td>\n    </tr>\n    <tr>\n      <th>std</th>\n      <td>163.296145</td>\n      <td>91.736179</td>\n      <td>221.497874</td>\n      <td>12.674462</td>\n      <td>27.961741</td>\n      <td>10.485731</td>\n    </tr>\n    <tr>\n      <th>min</th>\n      <td>177.420000</td>\n      <td>29.000000</td>\n      <td>0.000000</td>\n      <td>0.000000</td>\n      <td>0.000000</td>\n      <td>0.000000</td>\n    </tr>\n    <tr>\n      <th>25%</th>\n      <td>354.840000</td>\n      <td>143.000000</td>\n      <td>210.000000</td>\n      <td>2.250000</td>\n      <td>30.000000</td>\n      <td>4.000000</td>\n    </tr>\n    <tr>\n      <th>50%</th>\n      <td>473.120000</td>\n      <td>182.000000</td>\n      <td>340.000000</td>\n      <td>11.000000</td>\n      <td>44.000000</td>\n      <td>12.000000</td>\n    </tr>\n    <tr>\n      <th>75%</th>\n      <td>620.970000</td>\n      <td>251.000000</td>\n      <td>490.000000</td>\n      <td>22.000000</td>\n      <td>60.000000</td>\n      <td>18.500000</td>\n    </tr>\n    <tr>\n      <th>max</th>\n      <td>946.240000</td>\n      <td>460.000000</td>\n      <td>1150.000000</td>\n      <td>60.000000</td>\n      <td>141.000000</td>\n      <td>48.000000</td>\n    </tr>\n  </tbody>\n</table>\n</div>"
     },
     "execution_count": 9,
     "metadata": {},
     "output_type": "execute_result"
    }
   ],
   "source": [
    "# We check some basic statistics about some of the columns in our Dataframe.\n",
    "\n",
    "df  = df.drop(df.index[df['Calories'].idxmax()]) #We drop an outlier to have a better overview of the general data. \n",
    "df.describe()[1:][['Serving_Size_ml','Serving_Size_g','Calories','Total_Fat', 'Carbohydrates','Protein']]"
   ],
   "metadata": {
    "collapsed": false,
    "ExecuteTime": {
     "end_time": "2023-11-17T20:01:27.289179Z",
     "start_time": "2023-11-17T20:01:27.096716Z"
    }
   },
   "id": "db6b0ddb5bc38925"
  },
  {
   "cell_type": "code",
   "execution_count": 10,
   "outputs": [
    {
     "name": "stdout",
     "output_type": "stream",
     "text": [
      " * sqlite:///SQLiteMagic.db\n",
      "Done.\n"
     ]
    },
    {
     "data": {
      "text/plain": "             Category  Average_Calories_Category\n0         Beef & Pork                 494.000000\n1           Beverages                 113.703704\n2           Breakfast                 526.666667\n3      Chicken & Fish                 552.962963\n4        Coffee & Tea                 283.894737\n5            Desserts                 222.142857\n6              Salads                 270.000000\n7  Smoothies & Shakes                 531.428571\n8      Snacks & Sides                 245.769231",
      "text/html": "<div>\n<style scoped>\n    .dataframe tbody tr th:only-of-type {\n        vertical-align: middle;\n    }\n\n    .dataframe tbody tr th {\n        vertical-align: top;\n    }\n\n    .dataframe thead th {\n        text-align: right;\n    }\n</style>\n<table border=\"1\" class=\"dataframe\">\n  <thead>\n    <tr style=\"text-align: right;\">\n      <th></th>\n      <th>Category</th>\n      <th>Average_Calories_Category</th>\n    </tr>\n  </thead>\n  <tbody>\n    <tr>\n      <th>0</th>\n      <td>Beef &amp; Pork</td>\n      <td>494.000000</td>\n    </tr>\n    <tr>\n      <th>1</th>\n      <td>Beverages</td>\n      <td>113.703704</td>\n    </tr>\n    <tr>\n      <th>2</th>\n      <td>Breakfast</td>\n      <td>526.666667</td>\n    </tr>\n    <tr>\n      <th>3</th>\n      <td>Chicken &amp; Fish</td>\n      <td>552.962963</td>\n    </tr>\n    <tr>\n      <th>4</th>\n      <td>Coffee &amp; Tea</td>\n      <td>283.894737</td>\n    </tr>\n    <tr>\n      <th>5</th>\n      <td>Desserts</td>\n      <td>222.142857</td>\n    </tr>\n    <tr>\n      <th>6</th>\n      <td>Salads</td>\n      <td>270.000000</td>\n    </tr>\n    <tr>\n      <th>7</th>\n      <td>Smoothies &amp; Shakes</td>\n      <td>531.428571</td>\n    </tr>\n    <tr>\n      <th>8</th>\n      <td>Snacks &amp; Sides</td>\n      <td>245.769231</td>\n    </tr>\n  </tbody>\n</table>\n</div>"
     },
     "execution_count": 10,
     "metadata": {},
     "output_type": "execute_result"
    }
   ],
   "source": [
    "# With help of SQLite and a simple query we check the average calories on each food category.\n",
    "\n",
    "query = %sql SELECT Category, AVG(Calories) AS Average_Calories_Category FROM Mc_Data GROUP BY Category\n",
    "\n",
    "df_query =  pd.DataFrame(query)\n",
    "df_query"
   ],
   "metadata": {
    "collapsed": false,
    "ExecuteTime": {
     "end_time": "2023-11-17T20:01:27.384402Z",
     "start_time": "2023-11-17T20:01:27.215121Z"
    }
   },
   "id": "6213a3d3fb24465c"
  },
  {
   "cell_type": "code",
   "execution_count": 11,
   "outputs": [
    {
     "name": "stdout",
     "output_type": "stream",
     "text": [
      "count     259.000000\n",
      "mean      362.432432\n",
      "std       221.497874\n",
      "min         0.000000\n",
      "25%       210.000000\n",
      "50%       340.000000\n",
      "75%       490.000000\n",
      "max      1150.000000\n",
      "Name: Calories, dtype: float64 \n",
      "\n",
      "The menu element with the highest ammount of Calories is Big Breakfast with Hotcakes (Large Biscuit) \n",
      " \n"
     ]
    }
   ],
   "source": [
    "print(df['Calories'].describe (), '\\n')\n",
    "print(f\"The menu element with the highest ammount of Calories is { df.at[df['Calories'].idxmax(),'Item'] } \\n \" )\n"
   ],
   "metadata": {
    "collapsed": false,
    "ExecuteTime": {
     "end_time": "2023-11-17T20:01:27.410842Z",
     "start_time": "2023-11-17T20:01:27.231290Z"
    }
   },
   "id": "16f8f5172ac60e17"
  },
  {
   "cell_type": "markdown",
   "source": [
    "### 2.3 Correlation Analisis\n",
    "\n",
    "In the correlation analysis segment of the McDonald's nutritional data menu project, our primary focus is to unveil the relationships between various nutritional components and the calorie content of menu items. By examining the degree of association between macronutrients (such as carbohydrates, fats, and proteins) and micronutrients with calorie counts, we aim to discern patterns that illuminate how specific dietary elements contribute to the overall caloric composition of McDonald's offerings. "
   ],
   "metadata": {
    "collapsed": false
   },
   "id": "72daa91e2d49f91c"
  },
  {
   "cell_type": "code",
   "execution_count": null,
   "outputs": [],
   "source": [
    "#Now we plot a some of the nutritional elements against the Calories to check for correlations. \n",
    "\n",
    "fig, axes = plt.subplots( 3, 3, figsize=(15, 12))\n",
    "plt.style.use('ggplot')\n",
    "color1 =  '#3BB143'\n",
    "color2 = \"#3575D5\"\n",
    "\n",
    "fig.suptitle('Different Nutritional Parameters vs Calories', fontsize=18)\n",
    "\n",
    "sns.scatterplot(ax = axes[0,0], x = 'Serving_Size_g', y = 'Calories', data = df, s = 10, color = get_color_gradient(color1, color2, 9)[0])\n",
    "sns.scatterplot(ax = axes[0,1], x = 'Protein', y = 'Calories', data = df, s = 10, color = get_color_gradient(color1, color2, 9)[3])\n",
    "sns.scatterplot(ax = axes[0,2], x = 'Carbohydrates', y = 'Calories', data = df, s = 10, color = get_color_gradient(color1, color2, 9)[2])\n",
    "sns.scatterplot(ax = axes[1,0], x = 'Total_Fat', y = 'Calories', data = df, s = 10, color = get_color_gradient(color1, color2, 9)[1])\n",
    "sns.scatterplot(ax = axes[1,1], x = 'Vitamin_A_DV', y = 'Calories', data = df, s = 10, color = get_color_gradient(color1, color2, 9)[4])\n",
    "sns.scatterplot(ax = axes[1,2], x = 'Vitamin_C_DV', y = 'Calories', data = df, s = 10, color = get_color_gradient(color1, color2, 9)[5])\n",
    "sns.scatterplot(ax = axes[2,0], x = 'Iron_DV', y = 'Calories', data = df, s = 10, color = get_color_gradient(color1, color2, 9)[6])\n",
    "sns.scatterplot(ax = axes[2,1], x = 'Calcium_DV', y = 'Calories', data = df, s = 10, color = get_color_gradient(color1, color2, 9)[7])\n",
    "sns.scatterplot(ax = axes[2,2], x = 'Sodium_DV', y = 'Calories', data = df, s = 10, color = get_color_gradient(color1, color2, 9)[8]);"
   ],
   "metadata": {
    "collapsed": false,
    "is_executing": true,
    "ExecuteTime": {
     "start_time": "2023-11-17T20:01:27.305741Z"
    }
   },
   "id": "8c592f8916dbe3bc"
  },
  {
   "cell_type": "markdown",
   "source": [
    "As expected, there is a noticeable correlation between the serving size and the macronutrient composition, influencing the calorie content of the menu element. Surprisingly, we also observe a correlation between certain micronutrients and the calorie count. This unexpected relationship suggests a deeper connection between the complex interplay of macronutrients and micronutrients, emphasizing that the nutritional profile extends beyond basic energy content. These findings enhance our understanding of nutritional science, reminding us to consider both macro- and micronutrients in evaluating the holistic health impact of our dietary choices. \n",
    "We soon explore and quantify this relations in a deeper way by conducting a multiple linear Regression between the nutritional data and the Calories.  "
   ],
   "metadata": {
    "collapsed": false
   },
   "id": "2d2cd0228c53aae2"
  },
  {
   "cell_type": "markdown",
   "source": [
    "Let's zoom in on the protein macronutrient. We're delving into the details to see how it adds to the bigger picture we've been figuring out."
   ],
   "metadata": {
    "collapsed": false
   },
   "id": "3c5336bdf4a9b2f3"
  },
  {
   "cell_type": "code",
   "execution_count": null,
   "outputs": [],
   "source": [
    "# We check the protein distribution divided on each of the different food categories.\n",
    "\n",
    "df.describe(include='all')\n",
    "plt.figure(figsize=(15, 6))\n",
    "plot = sns.stripplot(x='Category', y='Protein', data=df, s=4, hue = 'Category')\n",
    "plt.title(\"Protein Content\")\n",
    "plt.show();"
   ],
   "metadata": {
    "collapsed": false,
    "is_executing": true
   },
   "id": "df490a3f7da7d8f"
  },
  {
   "cell_type": "code",
   "execution_count": null,
   "outputs": [],
   "source": [
    "# We check the average protein on each Category.\n",
    "\n",
    "query = %sql SELECT Category, AVG(Protein) AS \"Average_Protein\" FROM Mc_Data GROUP BY Category\n",
    "\n",
    "df_query = pd.DataFrame(query)\n",
    "df_query"
   ],
   "metadata": {
    "collapsed": false,
    "is_executing": true
   },
   "id": "f9629ae6b992d5d7"
  },
  {
   "cell_type": "markdown",
   "source": [
    "#### 2.3.1 Simple Linear Regresion "
   ],
   "metadata": {
    "collapsed": false
   },
   "id": "de8c46d857366b4"
  },
  {
   "cell_type": "code",
   "execution_count": null,
   "outputs": [],
   "source": [
    "# We take a closer look in the relation between the Calories and the Protein and conduct a Simple Linear Regression as a preamble of the Multiple Linear Regression. \n",
    "\n",
    "fig = plt.figure(figsize=(6, 5))\n",
    "plt.scatter(df['Protein'], df['Calories'], s = 10,color = get_color_gradient(color1, color2, 9)[3])\n",
    "plt.title('Calories vs Protein')\n",
    "plt.ylabel('Calories')\n",
    "plt.xlabel('Protein')\n",
    "plt.show()"
   ],
   "metadata": {
    "collapsed": false,
    "is_executing": true
   },
   "id": "f80b6b2a5950ccde"
  },
  {
   "cell_type": "code",
   "execution_count": null,
   "outputs": [],
   "source": [
    "# We do a Simple Linear Regression to quantify the correlation between Protein and Calories.\n",
    "np.random.seed(100)\n",
    "Protein = np.asarray((df.Protein))\n",
    "Calories = np.asarray(df.Calories)\n",
    "Calories = Calories[:,np.newaxis]\n",
    "regr = linear_model.LinearRegression()\n",
    "regr.fit(Calories, Protein)\n",
    "simple_regresion = regr.predict(Calories)\n",
    "fig = plt.figure(figsize=(6, 5))\n",
    "plt.plot(simple_regresion,Calories, color=\"blue\", linewidth=3)\n",
    "plt.scatter(Protein,Calories ,  s=10, color = get_color_gradient(color1, color2, 9)[3])\n",
    "plt.title(\"Simple Linear Regresion Model\")\n",
    "plt.ylabel('Calories')\n",
    "plt.xlabel('Protein')\n",
    "plt.legend([f\"Coefficient: \\n β_1 = {100*regr.coef_[0]:.2f}x10^-3\"])\n",
    "plt.show()"
   ],
   "metadata": {
    "collapsed": false,
    "is_executing": true
   },
   "id": "578edf7f376357d1"
  },
  {
   "cell_type": "markdown",
   "source": [
    "#### 2.3.2 Multiple Linear Regresion (MLR) \n",
    "\n",
    "We proceed with a MLR using the macronutrients and micronutrients that seem to exhibit the highest correlation levels with the calorie content of the food, that is with 'Protein','Carbohydrates', 'Total_Fat', 'Iron_DV', 'Calcium_DV', 'Sodium_DV'. This approach allows us to quantify the relationship between these nutritional components and the calorie count."
   ],
   "metadata": {
    "collapsed": false
   },
   "id": "15657630bc6fcd0b"
  },
  {
   "cell_type": "code",
   "execution_count": null,
   "outputs": [],
   "source": [
    "np.random.seed(100)\n",
    "X = df[['Protein','Carbohydrates', 'Total_Fat', 'Iron_DV', 'Calcium_DV', 'Sodium_DV']]\n",
    "y = df['Calories']\n",
    "\n",
    "regr = linear_model.LinearRegression()\n",
    "regr.fit(X, y);"
   ],
   "metadata": {
    "collapsed": false,
    "is_executing": true
   },
   "id": "3e8f9ebb64fbb8e4"
  },
  {
   "cell_type": "code",
   "execution_count": null,
   "outputs": [],
   "source": [
    "print(regr.coef_)\n",
    "print(regr.intercept_)"
   ],
   "metadata": {
    "collapsed": false,
    "is_executing": true
   },
   "id": "9d5c6c8f0160e29c"
  },
  {
   "cell_type": "code",
   "execution_count": null,
   "outputs": [],
   "source": [
    "r2_score(y, regr.predict(X))"
   ],
   "metadata": {
    "collapsed": false,
    "is_executing": true
   },
   "id": "2a728512c456ff43"
  },
  {
   "cell_type": "markdown",
   "source": [
    "Given the robust correlation between the macronutrients and the calorie content, our multiple linear regression model demonstrates a nearly perfect fit to the data."
   ],
   "metadata": {
    "collapsed": false
   },
   "id": "f442daa8b993a692"
  },
  {
   "cell_type": "code",
   "execution_count": null,
   "outputs": [],
   "source": [
    "fig, axes = plt.subplots( 2, 3, figsize=(15, 12))\n",
    "plt.style.use('ggplot')\n",
    "color1 = '#3BB143'\n",
    "color2 = \"#3575D5\"\n",
    "\n",
    "fig.suptitle('Correlations with the Calorie content', fontsize=18)\n",
    "\n",
    "\n",
    "sns.scatterplot(ax = axes[0,0], x = 'Protein', y = 'Calories',s=10, data = df, color = get_color_gradient(color1, color2, 9)[1],label = f\"MLR Correlation Coefficient: {regr.coef_[0]:.2f}\")\n",
    "sns.regplot(ax = axes[0,0], x = 'Protein', y = 'Calories',scatter=False, data = df, color = get_color_gradient(color1, color2, 9)[7])\n",
    "\n",
    "sns.scatterplot(ax = axes[0,1], x = 'Carbohydrates', y = 'Calories', data = df, s = 10, color = get_color_gradient(color1, color2, 9)[2],label = f\"MLR Correlation Coefficient: {regr.coef_[1]:.2f}\")\n",
    "sns.regplot(ax = axes[0,1], x = 'Carbohydrates', y = 'Calories',scatter=False, data = df, color = get_color_gradient(color1, color2, 9)[6])\n",
    "\n",
    "sns.scatterplot(ax = axes[0,2], x = 'Total_Fat', y = 'Calories', data = df, s = 10, color = get_color_gradient(color1, color2, 9)[3],label = f\"MLR Correlation Coefficient: {regr.coef_[2]:.2f}\")\n",
    "sns.regplot(ax = axes[0,2], x = 'Total_Fat', y = 'Calories',scatter=False, data = df, color = get_color_gradient(color1, color2, 9)[5])\n",
    "\n",
    "sns.scatterplot(ax = axes[1,0], x = 'Iron_DV', y = 'Calories', data = df, s = 10, color = get_color_gradient(color1, color2, 9)[6],label = f\"MLR Correlation Coefficient: {regr.coef_[3]:.2f}\")\n",
    "sns.regplot(ax = axes[1,0], x = 'Iron_DV', y = 'Calories',scatter=False, data = df, color = get_color_gradient(color1, color2, 9)[2])\n",
    "\n",
    "sns.scatterplot(ax = axes[1,1], x = 'Calcium_DV', y = 'Calories', data = df, s = 10, color = get_color_gradient(color1, color2, 9)[7],label = f\"MLR Correlation Coefficient: {regr.coef_[4]:.2f}\")\n",
    "sns.regplot(ax = axes[1,1], x = 'Calcium_DV', y = 'Calories',scatter=False, data = df, color = get_color_gradient(color1, color2, 9)[1])\n",
    "\n",
    "sns.scatterplot(ax = axes[1,2], x = 'Sodium_DV', y = 'Calories', data = df, s = 10, color = get_color_gradient(color1, color2, 9)[8],label = f\"MLR Correlation Coefficient: {regr.coef_[5]:.2f}\")\n",
    "sns.regplot(ax = axes[1,2], x = 'Sodium_DV', y = 'Calories',scatter=False, data = df, color = get_color_gradient(color1, color2, 9)[0]);"
   ],
   "metadata": {
    "collapsed": false,
    "is_executing": true
   },
   "id": "61105ae0ed8de3cc"
  },
  {
   "cell_type": "markdown",
   "source": [
    "### 2.3.3 Predictive Model \n",
    "\n",
    "To conclude the project, we embark on creating a predictive model employing the test-train split methodology. This time, we narrow our focus to micronutrients in the multiple linear regression analysis. The decision to exclusively incorporate micronutrients makes the task more challenging, as their relationship with calorie content is not as straightforward as with macronutrients. By doing so, we aim to delve into the intricacies of the nutritional composition and assess the model's ability to predict calorie content based on these more nuanced factors. This approach enhances the depth of our analysis and offers insights into the nuanced interplay between micronutrients and calorie counts in McDonald's menu items."
   ],
   "metadata": {
    "collapsed": false
   },
   "id": "c256c6d87c4dd64c"
  },
  {
   "cell_type": "code",
   "execution_count": null,
   "outputs": [],
   "source": [
    "np.random.seed(100)\n",
    "X = df[['Vitamin_A_DV','Vitamin_C_DV', 'Iron_DV', 'Sodium_DV', 'Calcium_DV']]\n",
    "y = df['Calories']\n",
    "\n",
    "X_train, X_test,y_train,y_test = train_test_split(X,y,test_size =0.5)\n",
    "regr = linear_model.LinearRegression()\n",
    "regr.fit(X_train, y_train);\n",
    "r2_score(y_test, regr.predict(X_test))"
   ],
   "metadata": {
    "collapsed": false,
    "is_executing": true
   },
   "id": "9f68d25866b4d9f2"
  },
  {
   "cell_type": "markdown",
   "source": [
    "The R2 score analysis reveals a compelling insight: up to 70% of the variation in the Calorie content is predictable solely by considering micronutrients. While this percentage is notably lower than the R2 Score attained with the MLR using macronutrients, it unveils a valuable dimension of information within seemingly less correlated variables. This finding underscores the nuanced and intricate relationship between micronutrients and calorie content, offering a substantial contribution to our understanding of the nutritional dynamics in McDonald's menu items."
   ],
   "metadata": {
    "collapsed": false
   },
   "id": "b8a937b992d62b70"
  },
  {
   "cell_type": "markdown",
   "source": [
    "## 3. Conclusions\n",
    "\n",
    "In conclusion, our exploratory and correlation analysis of the McDonald's Menu Nutritional Data has shed light on the intricate relationships within the menu offerings. Through meticulous examination of macronutrients and micronutrients, we uncovered robust correlations with calorie content, leading to a highly effective predictive model. While the model's performance was affected at focusing exclusively on micronutrients, the insights gained underscore the complexity of nutritional interplay. This project provides a comprehensive understanding of how specific dietary components contribute to the overall nutritional profile of McDonald's menu items, offering valuable implications for both dietary research and public health considerations."
   ],
   "metadata": {
    "collapsed": false
   },
   "id": "3deff274ed28fbb0"
  }
 ],
 "metadata": {
  "kernelspec": {
   "display_name": "Python 3",
   "language": "python",
   "name": "python3"
  },
  "language_info": {
   "codemirror_mode": {
    "name": "ipython",
    "version": 2
   },
   "file_extension": ".py",
   "mimetype": "text/x-python",
   "name": "python",
   "nbconvert_exporter": "python",
   "pygments_lexer": "ipython2",
   "version": "2.7.6"
  }
 },
 "nbformat": 4,
 "nbformat_minor": 5
}
